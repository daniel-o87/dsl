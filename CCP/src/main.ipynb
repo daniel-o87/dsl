{
 "cells": [
  {
   "cell_type": "code",
   "execution_count": 1,
   "metadata": {},
   "outputs": [],
   "source": [
    "import os\n",
    "import json\n",
    "import tqdm\n",
    "import itertools\n",
    "\n",
    "from random import sample\n",
    "\n",
    "import matplotlib.pyplot as plt\n",
    "from matplotlib.colors import ListedColormap, Normalize\n",
    "import matplotlib.pyplot as plt\n",
    "import numpy as np\n",
    "import random \n",
    "from typing import List, Set, Tuple"
   ]
  },
  {
   "cell_type": "code",
   "execution_count": 2,
   "metadata": {},
   "outputs": [],
   "source": [
    "test_challenges_path = '../input/arc-agi_test_challenges.json'\n",
    "train_challenges_path = '../input/arc-agi_training_challenges.json'\n",
    "train_solutions_path = '../input/arc-agi_training_solutions.json'\n",
    "\n",
    "with open(test_challenges_path) as fp:\n",
    "    test_challenges = json.load(fp)\n",
    "with open(train_challenges_path) as fp:\n",
    "    train_challenges = json.load(fp)\n",
    "with open(train_solutions_path) as fp:\n",
    "    train_solutions = json.load(fp)"
   ]
  },
  {
   "cell_type": "code",
   "execution_count": 3,
   "metadata": {},
   "outputs": [
    {
     "data": {
      "text/plain": [
       "'05269061'"
      ]
     },
     "execution_count": 3,
     "metadata": {},
     "output_type": "execute_result"
    }
   ],
   "source": [
    "random.choice(list(test_challenges))"
   ]
  },
  {
   "cell_type": "code",
   "execution_count": 39,
   "metadata": {},
   "outputs": [],
   "source": []
  },
  {
   "cell_type": "code",
   "execution_count": 4,
   "metadata": {},
   "outputs": [],
   "source": [
    "first = []"
   ]
  },
  {
   "cell_type": "code",
   "execution_count": 5,
   "metadata": {},
   "outputs": [
    {
     "name": "stdout",
     "output_type": "stream",
     "text": [
      "0\n",
      "007bbfb7\n",
      "1\n",
      "00d62c1b\n",
      "2\n",
      "017c7c7b\n",
      "3\n",
      "025d127b\n",
      "4\n",
      "045e512c\n",
      "5\n",
      "0520fde7\n",
      "6\n",
      "05269061\n",
      "7\n",
      "05f2a901\n",
      "8\n",
      "06df4c85\n",
      "9\n",
      "08ed6ac7\n"
     ]
    }
   ],
   "source": [
    "for i, j in enumerate(test_challenges):\n",
    "    print(i)\n",
    "    print(j)\n",
    "    if i < 9:\n",
    "        first.append(str(j))\n",
    "    else:\n",
    "        break"
   ]
  },
  {
   "cell_type": "code",
   "execution_count": 6,
   "metadata": {},
   "outputs": [],
   "source": [
    "test = test_challenges['007bbfb7']"
   ]
  },
  {
   "cell_type": "code",
   "execution_count": 7,
   "metadata": {},
   "outputs": [],
   "source": [
    "def plot_json(task):\n",
    "    \"\"\" plots a single json as matrix \"\"\"\n",
    "    cmap = ListedColormap([\n",
    "        '#000', '#0074D9', '#FF4136', '#2ECC40', '#FFDC00',\n",
    "        '#AAAAAA', '#F012BE', '#FF851B', '#7FDBFF', '#870C25'\n",
    "    ])\n",
    "    norm = Normalize(vmin=0, vmax=9)\n",
    "    \n",
    "    # Create a figure for plotting\n",
    "    figure, ax = plt.subplots(figsize=(4, 4))\n",
    "    \n",
    "    # Since task is a single matrix, plot it directly\n",
    "    ax.imshow(task, cmap=cmap, norm=norm)\n",
    "    ax.set_title(\"Matrix\")\n",
    "    ax.axis('off')  # Turn off axis labels\n",
    "    \n",
    "    plt.show()"
   ]
  },
  {
   "cell_type": "code",
   "execution_count": 8,
   "metadata": {},
   "outputs": [],
   "source": [
    "def ret_matrix(ref):\n",
    "    return train_challenges[ref]['train']"
   ]
  },
  {
   "cell_type": "code",
   "execution_count": 9,
   "metadata": {},
   "outputs": [
    {
     "name": "stdout",
     "output_type": "stream",
     "text": [
      "[[0, 0, 1, 1, 1, 1, 1, 0, 0, 0], [0, 0, 1, 1, 1, 1, 1, 0, 0, 0], [0, 0, 1, 1, 0, 1, 1, 0, 0, 0], [0, 0, 1, 1, 0, 1, 1, 0, 0, 0], [0, 0, 0, 0, 0, 0, 0, 0, 0, 0], [0, 0, 0, 0, 0, 0, 0, 0, 0, 0], [0, 0, 0, 0, 0, 0, 0, 0, 0, 0], [0, 0, 0, 0, 2, 0, 0, 0, 0, 0], [0, 0, 0, 0, 2, 0, 0, 0, 0, 0], [0, 0, 0, 0, 2, 0, 0, 0, 0, 0]]\n",
      "[[0, 0, 1, 1, 1, 1, 1, 1, 1, 0], [0, 0, 1, 1, 0, 1, 1, 1, 1, 0], [0, 0, 1, 1, 0, 1, 0, 1, 1, 0], [0, 0, 1, 1, 0, 1, 0, 1, 1, 0], [0, 0, 0, 0, 0, 0, 0, 1, 1, 0], [0, 0, 0, 0, 0, 0, 0, 0, 0, 0], [0, 0, 0, 0, 0, 0, 2, 0, 0, 0], [0, 0, 0, 0, 0, 0, 2, 0, 0, 0], [0, 0, 0, 0, 0, 0, 2, 0, 0, 0], [0, 0, 0, 0, 2, 0, 2, 0, 0, 0]]\n",
      "[[0, 1, 1, 1, 1, 1, 1, 1, 1, 1], [0, 1, 1, 0, 1, 1, 1, 1, 1, 1], [0, 1, 1, 0, 1, 1, 1, 1, 0, 1], [0, 1, 1, 0, 0, 1, 0, 1, 0, 1], [0, 0, 0, 0, 0, 0, 0, 0, 0, 0], [0, 0, 0, 0, 0, 0, 0, 0, 0, 0], [0, 0, 0, 0, 0, 0, 2, 0, 0, 0], [0, 0, 0, 2, 0, 0, 2, 0, 2, 0], [0, 0, 0, 2, 2, 0, 2, 0, 2, 0], [0, 0, 0, 2, 2, 0, 2, 0, 2, 0]]\n"
     ]
    }
   ],
   "source": [
    "for i in ret_matrix(\"3906de3d\"):\n",
    "    print(i['input'])"
   ]
  },
  {
   "cell_type": "code",
   "execution_count": 10,
   "metadata": {},
   "outputs": [],
   "source": [
    "a = ret_matrix('00d62c1b')"
   ]
  },
  {
   "cell_type": "code",
   "execution_count": 11,
   "metadata": {},
   "outputs": [
    {
     "data": {
      "text/plain": [
       "'\\n1) select all areas that are closed off completely by 4 side (00d62c1b)\\n2) multiply colors of rows/columns/diagonals through or every other row(05269061, 0a938d79) or ndjust horizontally a\\n3n) # Potentially useful primitives: and transformations (recolor)\\n4) # Potentially useful: cellular automata (cell #11)\\n5) gravity of a certain color or number of cells object\\n6) understand by color of cell\\n'"
      ]
     },
     "execution_count": 11,
     "metadata": {},
     "output_type": "execute_result"
    }
   ],
   "source": [
    "# MATRIX OPERATIONS OF PRIMITIVES\n",
    "\n",
    "def hmirror_m(m):\n",
    "    return np.fliplr(m)\n",
    "\n",
    "def tophalf_m(m):\n",
    "    return m[:len(m)//2]\n",
    "\n",
    "def rot90_left_m(m):\n",
    "    return np.rot90(m, 1)\n",
    "\n",
    "def rot90_right_m(m):\n",
    "    return np.rot90(m, -1)\n",
    "\n",
    "def compress_m(m):\n",
    "    ri = np.all(m == m[:, [0]], axis=1)\n",
    "    ci = np.all(m == m[[0], :], axis=0)\n",
    "    new_grid = np.delete(m, np.where(ri), axis=0)  \n",
    "    new_grid = np.delete(new_grid, np.where(ci), axis=1)  \n",
    "    \n",
    "    return new_grid\n",
    "\n",
    "def gravity_m(m):\n",
    "    print(m.shape[1])\n",
    "    for x in range(m.shape[1]):\n",
    "        # Extract the column\n",
    "        column = m[:, x]\n",
    "        print(column)\n",
    "        # Filter out the non-zero elements\n",
    "        non_zero_elements = column[column != 0]\n",
    "        # Create a new column filled with zeros\n",
    "        new_column = np.zeros_like(column)\n",
    "        \n",
    "        # Handle only if there are non-zero elements\n",
    "        if len(non_zero_elements) > 0:\n",
    "            # Assign non-zero elements to the bottom of the new column\n",
    "            new_column[-len(non_zero_elements):] = non_zero_elements\n",
    "        \n",
    "        # Assign the new column back to the matrix\n",
    "        m[:, x] = new_column\n",
    "    \n",
    "    return m\n",
    "\n",
    "\n",
    "\n",
    "def find_objects(matrix):\n",
    "    def get_neighbors(row: int, col: int) -> List[Tuple[int, int]]:\n",
    "        \"\"\"Get valid neighboring coordinates (up, down, left, right).\"\"\"\n",
    "        directions = [(0, 1), (0, -1), (1, 0), (-1, 0)]\n",
    "        neighbors = []\n",
    "        for dx, dy in directions:\n",
    "            new_row, new_col = row + dx, col + dy\n",
    "            if (0 <= new_row < len(matrix) and \n",
    "                0 <= new_col < len(matrix[0])):\n",
    "                neighbors.append((new_row, new_col))\n",
    "        return neighbors\n",
    "    \n",
    "    def flood_fill(row: int, col: int, visited: Set[Tuple[int, int]]) -> Set[Tuple[int, int]]:\n",
    "        \"\"\"Recursively find all connected non-zero cells starting from (row, col).\"\"\"\n",
    "        if (row, col) in visited or matrix[row][col] == 0:\n",
    "            return set()\n",
    "            \n",
    "        current_object = {(row, col)}\n",
    "        visited.add((row, col))\n",
    "        \n",
    "        for next_row, next_col in get_neighbors(row, col):\n",
    "            if matrix[next_row][next_col] != 0:\n",
    "                current_object.update(flood_fill(next_row, next_col, visited))\n",
    "                \n",
    "        return current_object\n",
    "    \n",
    "    # Convert input to numpy array for easier handling\n",
    "    matrix = np.array(matrix)\n",
    "    visited = set()\n",
    "    objects = []\n",
    "    \n",
    "    # Scan through matrix\n",
    "    for row in range(len(matrix)):\n",
    "        for col in range(len(matrix[0])):\n",
    "            if matrix[row][col] != 0 and (row, col) not in visited:\n",
    "                object_cells = flood_fill(row, col, visited)\n",
    "                if object_cells:  # Only add if cells were found\n",
    "                    objects.append(object_cells)\n",
    "    \n",
    "    return objects\n",
    "\n",
    "\n",
    "def group_into_columns(obj: Set[Tuple[int, int]]) -> dict:\n",
    "    \"\"\"Group object coordinates by column to maintain vertical structure\"\"\"\n",
    "    columns = {}\n",
    "    for row, col in obj:\n",
    "        if col not in columns:\n",
    "            columns[col] = []\n",
    "        columns[col].append(row)\n",
    "    # Sort rows within each column\n",
    "    for col in columns:\n",
    "        columns[col] = sorted(columns[col])\n",
    "    return columns\n",
    "\n",
    "def gravity_down_m(matrix: List[List[int]], objects: List[Set[Tuple[int, int]]]) -> List[List[int]]:\n",
    "    \"\"\"Makes objects fall down while maintaining vertical column structure\"\"\"\n",
    "    matrix = np.array(matrix)\n",
    "    new_matrix = np.zeros_like(matrix)\n",
    "    rows, cols = matrix.shape\n",
    "    \n",
    "    # Process objects from bottom to top\n",
    "    objects_with_bottom = [(max(coord[0] for coord in obj), obj) for obj in objects]\n",
    "    sorted_objects = [obj for _, obj in sorted(objects_with_bottom, reverse=True)]\n",
    "    \n",
    "    for obj in sorted_objects:\n",
    "        # Group coordinates by column\n",
    "        columns = group_into_columns(obj)\n",
    "        \n",
    "        # Process each column separately\n",
    "        for col, rows_in_col in columns.items():\n",
    "            column_height = len(rows_in_col)\n",
    "            min_row = min(rows_in_col)\n",
    "            max_row = max(rows_in_col)\n",
    "            \n",
    "            # Find how far this column can fall\n",
    "            can_move = True\n",
    "            final_base_row = max_row\n",
    "            \n",
    "            while can_move and final_base_row < rows - 1:\n",
    "                test_base_row = final_base_row + 1\n",
    "                relative_positions = [i - min_row for i in rows_in_col]\n",
    "                \n",
    "                # Check if any position in this column would collide\n",
    "                for rel_pos in relative_positions:\n",
    "                    test_row = test_base_row - (max(relative_positions) - rel_pos)\n",
    "                    if test_row >= rows or new_matrix[test_row, col] != 0:\n",
    "                        can_move = False\n",
    "                        break\n",
    "                \n",
    "                if can_move:\n",
    "                    final_base_row += 1\n",
    "            \n",
    "            # Place the column at its final position\n",
    "            for original_row in rows_in_col:\n",
    "                relative_pos = original_row - max_row\n",
    "                new_row = final_base_row + relative_pos\n",
    "                new_matrix[new_row, col] = matrix[original_row, col]\n",
    "\n",
    "    return new_matrix.tolist()\n",
    "\n",
    "def gravity_up_m(matrix: List[List[int]], objects: List[Set[Tuple[int, int]]]) -> List[List[int]]:\n",
    "    \"\"\"Makes objects float up while maintaining vertical column structure\"\"\"\n",
    "    matrix = np.array(matrix)\n",
    "    new_matrix = np.zeros_like(matrix)\n",
    "    rows, cols = matrix.shape\n",
    "    \n",
    "    # Process objects from top to bottom\n",
    "    objects_with_top = [(min(coord[0] for coord in obj), obj) for obj in objects]\n",
    "    sorted_objects = [obj for _, obj in sorted(objects_with_top)]\n",
    "    \n",
    "    for obj in sorted_objects:\n",
    "        # Group coordinates by column\n",
    "        columns = group_into_columns(obj)\n",
    "        \n",
    "        # Process each column separately\n",
    "        for col, rows_in_col in columns.items():\n",
    "            column_height = len(rows_in_col)\n",
    "            min_row = min(rows_in_col)\n",
    "            max_row = max(rows_in_col)\n",
    "            \n",
    "            # Find how far this column can rise\n",
    "            can_move = True\n",
    "            final_top_row = min_row\n",
    "            \n",
    "            while can_move and final_top_row > 0:\n",
    "                test_top_row = final_top_row - 1\n",
    "                relative_positions = [i - min_row for i in rows_in_col]\n",
    "                \n",
    "                # Check if any position in this column would collide\n",
    "                for rel_pos in relative_positions:\n",
    "                    test_row = test_top_row + rel_pos\n",
    "                    if test_row < 0 or new_matrix[test_row, col] != 0:\n",
    "                        can_move = False\n",
    "                        break\n",
    "                \n",
    "                if can_move:\n",
    "                    final_top_row -= 1\n",
    "            \n",
    "            # Place the column at its finalf position\n",
    "            for original_row in rows_in_col:\n",
    "                relative_pos = original_row - min_row\n",
    "                new_row = final_top_row + relative_pos\n",
    "                new_matrix[new_row, col] = matrix[original_row, col]\n",
    "\n",
    "    return new_matrix.tolist()\n",
    "\n",
    "from collections import Counter\n",
    "\n",
    "def property_detection_len(m):\n",
    "    num_dict = {}\n",
    "    objects = find_objects(m)\n",
    "    \n",
    "    for obj in objects:\n",
    "        length = len(obj)\n",
    "        if length not in num_dict:\n",
    "            num_dict[length] = []\n",
    "        num_dict[length].append(obj)\n",
    "        \n",
    "    return num_dict\n",
    "\n",
    "    #print(Counter(l))\n",
    "\"\"\"\n",
    "1) select all areas that are closed off completely by 4 side (00d62c1b)\n",
    "2) multiply colors of rows/columns/diagonals through or every other row(05269061, 0a938d79) or ndjust horizontally a\n",
    "3n) # Potentially useful primitives: and transformations (recolor)\n",
    "4) # Potentially useful: cellular automata (cell #11)\n",
    "5) gravity of a certain color or number of cells object\n",
    "6) understand by color of cell\n",
    "\"\"\""
   ]
  },
  {
   "cell_type": "code",
   "execution_count": 20,
   "metadata": {},
   "outputs": [
    {
     "name": "stdout",
     "output_type": "stream",
     "text": [
      "[[0, 0, 1, 1, 1, 1, 1, 0, 0, 0], [0, 0, 1, 1, 1, 1, 1, 0, 0, 0], [0, 0, 1, 1, 0, 1, 1, 0, 0, 0], [0, 0, 1, 1, 0, 1, 1, 0, 0, 0], [0, 0, 0, 0, 0, 0, 0, 0, 0, 0], [0, 0, 0, 0, 0, 0, 0, 0, 0, 0], [0, 0, 0, 0, 0, 0, 0, 0, 0, 0], [0, 0, 0, 0, 2, 0, 0, 0, 0, 0], [0, 0, 0, 0, 2, 0, 0, 0, 0, 0], [0, 0, 0, 0, 2, 0, 0, 0, 0, 0]]\n"
     ]
    },
    {
     "data": {
      "image/png": "[encoded data removed]",
      "text/plain": [
       "<Figure size 400x400 with 1 Axes>"
      ]
     },
     "metadata": {},
     "output_type": "display_data"
    },
    {
     "name": "stdout",
     "output_type": "stream",
     "text": [
      "{18: [{(1, 2), (0, 4), (1, 5), (0, 2), (0, 5), (2, 2), (1, 6), (3, 2), (2, 5), (1, 3), (3, 5), (0, 3), (1, 4), (0, 6), (2, 3), (3, 3), (2, 6), (3, 6)}], 3: [{(7, 4), (8, 4), (9, 4)}]}\n"
     ]
    },
    {
     "data": {
      "image/png": "[encoded data removed]",
      "text/plain": [
       "<Figure size 400x400 with 1 Axes>"
      ]
     },
     "metadata": {},
     "output_type": "display_data"
    },
    {
     "name": "stdout",
     "output_type": "stream",
     "text": [
      "[[0, 0, 1, 1, 1, 1, 1, 1, 1, 0], [0, 0, 1, 1, 0, 1, 1, 1, 1, 0], [0, 0, 1, 1, 0, 1, 0, 1, 1, 0], [0, 0, 1, 1, 0, 1, 0, 1, 1, 0], [0, 0, 0, 0, 0, 0, 0, 1, 1, 0], [0, 0, 0, 0, 0, 0, 0, 0, 0, 0], [0, 0, 0, 0, 0, 0, 2, 0, 0, 0], [0, 0, 0, 0, 0, 0, 2, 0, 0, 0], [0, 0, 0, 0, 0, 0, 2, 0, 0, 0], [0, 0, 0, 0, 2, 0, 2, 0, 0, 0]]\n"
     ]
    },
    {
     "data": {
      "image/png": "[encoded data removed]",
      "text/plain": [
       "<Figure size 400x400 with 1 Axes>"
      ]
     },
     "metadata": {},
     "output_type": "display_data"
    },
    {
     "name": "stdout",
     "output_type": "stream",
     "text": [
      "{25: [{(0, 7), (1, 2), (0, 4), (2, 7), (1, 5), (3, 7), (1, 8), (0, 2), (0, 5), (2, 2), (1, 6), (0, 8), (2, 5), (3, 2), (4, 7), (3, 5), (2, 8), (1, 3), (3, 8), (0, 3), (0, 6), (2, 3), (1, 7), (3, 3), (4, 8)}], 4: [{(6, 6), (9, 6), (7, 6), (8, 6)}], 1: [{(9, 4)}]}\n"
     ]
    },
    {
     "data": {
      "image/png": "[encoded data removed]",
      "text/plain": [
       "<Figure size 400x400 with 1 Axes>"
      ]
     },
     "metadata": {},
     "output_type": "display_data"
    },
    {
     "name": "stdout",
     "output_type": "stream",
     "text": [
      "[[0, 1, 1, 1, 1, 1, 1, 1, 1, 1], [0, 1, 1, 0, 1, 1, 1, 1, 1, 1], [0, 1, 1, 0, 1, 1, 1, 1, 0, 1], [0, 1, 1, 0, 0, 1, 0, 1, 0, 1], [0, 0, 0, 0, 0, 0, 0, 0, 0, 0], [0, 0, 0, 0, 0, 0, 0, 0, 0, 0], [0, 0, 0, 0, 0, 0, 2, 0, 0, 0], [0, 0, 0, 2, 0, 0, 2, 0, 2, 0], [0, 0, 0, 2, 2, 0, 2, 0, 2, 0], [0, 0, 0, 2, 2, 0, 2, 0, 2, 0]]\n"
     ]
    },
    {
     "data": {
      "image/png": "[encoded data removed]",
      "text/plain": [
       "<Figure size 400x400 with 1 Axes>"
      ]
     },
     "metadata": {},
     "output_type": "display_data"
    },
    {
     "name": "stdout",
     "output_type": "stream",
     "text": [
      "{29: [{(0, 1), (0, 7), (2, 4), (1, 2), (0, 4), (2, 1), (2, 7), (1, 5), (3, 1), (3, 7), (1, 8), (0, 2), (0, 5), (2, 2), (1, 6), (0, 8), (2, 5), (3, 2), (1, 9), (3, 5), (1, 1), (0, 3), (0, 9), (1, 4), (0, 6), (2, 9), (1, 7), (2, 6), (3, 9)}], 4: [{(6, 6), (9, 6), (7, 6), (8, 6)}], 5: [{(8, 3), (8, 4), (9, 3), (9, 4), (7, 3)}], 3: [{(8, 8), (9, 8), (7, 8)}]}\n"
     ]
    },
    {
     "data": {
      "image/png": "[encoded data removed]",
      "text/plain": [
       "<Figure size 400x400 with 1 Axes>"
      ]
     },
     "metadata": {},
     "output_type": "display_data"
    }
   ],
   "source": [
    "for i in ret_matrix(\"3906de3d\"):\n",
    "    m2 = i['input']\n",
    "    print(m2)\n",
    "    plot_json(m2)\n",
    "    print(property_detection_len(m2))\n",
    "    #plot_json(gravity_m(m2))\n",
    "    plot_json(gravity_up_m(m2, find_objects(m2)))"
   ]
  },
  {
   "cell_type": "code",
   "execution_count": 13,
   "metadata": {},
   "outputs": [
    {
     "data": {
      "text/plain": [
       "['007bbfb7',\n",
       " '00d62c1b',\n",
       " '017c7c7b',\n",
       " '025d127b',\n",
       " '045e512c',\n",
       " '0520fde7',\n",
       " '05269061',\n",
       " '05f2a901',\n",
       " '06df4c85']"
      ]
     },
     "execution_count": 13,
     "metadata": {},
     "output_type": "execute_result"
    }
   ],
   "source": [
    "first"
   ]
  },
  {
   "cell_type": "code",
   "execution_count": 14,
   "metadata": {},
   "outputs": [],
   "source": [
    "def plot_task(task):\n",
    "    \"\"\" plots a task \"\"\"\n",
    "    examples = task['train']\n",
    "    n_examples = len(examples)\n",
    "    cmap = ListedColormap([\n",
    "        '#000', '#0074D9', '#FF4136', '#2ECC40', '#FFDC00',\n",
    "        '#AAAAAA', '#F012BE', '#FF851B', '#7FDBFF', '#870C25'\n",
    "    ])\n",
    "    norm = Normalize(vmin=0, vmax=9)\n",
    "    figure, axes = plt.subplots(2, n_examples, figsize=(n_examples * 4, 8))\n",
    "    for column, example in enumerate(examples):\n",
    "        axes[0, column].imshow(example['input'], cmap=cmap, norm=norm)\n",
    "        axes[1, column].imshow(example['output'], cmap=cmap, norm=norm)\n",
    "        axes[0, column].set_title(\"Input\")\n",
    "        axes[1, column].set_title(\"Output\")\n",
    "        axes[0, column].axis('off')\n",
    "        axes[1, column].axis('off')\n",
    "    plt.show()"
   ]
  },
  {
   "cell_type": "code",
   "execution_count": 15,
   "metadata": {},
   "outputs": [
    {
     "data": {
      "image/png": "[encoded data removed]",
      "text/plain": [
       "<Figure size 2000x800 with 10 Axes>"
      ]
     },
     "metadata": {},
     "output_type": "display_data"
    },
    {
     "data": {
      "image/png": "[encoded data removed]",
      "text/plain": [
       "<Figure size 2000x800 with 10 Axes>"
      ]
     },
     "metadata": {},
     "output_type": "display_data"
    },
    {
     "data": {
      "image/png": "[encoded data removed]",
      "text/plain": [
       "<Figure size 1200x800 with 6 Axes>"
      ]
     },
     "metadata": {},
     "output_type": "display_data"
    },
    {
     "data": {
      "image/png": "[encoded data removed]",
      "text/plain": [
       "<Figure size 800x800 with 4 Axes>"
      ]
     },
     "metadata": {},
     "output_type": "display_data"
    },
    {
     "data": {
      "image/png": "[encoded data removed]",
      "text/plain": [
       "<Figure size 1200x800 with 6 Axes>"
      ]
     },
     "metadata": {},
     "output_type": "display_data"
    },
    {
     "data": {
      "image/png": "[encoded data removed]",
      "text/plain": [
       "<Figure size 1200x800 with 6 Axes>"
      ]
     },
     "metadata": {},
     "output_type": "display_data"
    },
    {
     "data": {
      "image/png": "[encoded data removed]",
      "text/plain": [
       "<Figure size 1200x800 with 6 Axes>"
      ]
     },
     "metadata": {},
     "output_type": "display_data"
    },
    {
     "data": {
      "image/png": "[encoded data removed]",
      "text/plain": [
       "<Figure size 1200x800 with 6 Axes>"
      ]
     },
     "metadata": {},
     "output_type": "display_data"
    },
    {
     "data": {
      "image/png": "[encoded data removed]",
      "text/plain": [
       "<Figure size 1200x800 with 6 Axes>"
      ]
     },
     "metadata": {},
     "output_type": "display_data"
    }
   ],
   "source": [
    "for i in first:\n",
    "    plot_task(test_challenges[i])"
   ]
  },
  {
   "cell_type": "code",
   "execution_count": 16,
   "metadata": {},
   "outputs": [
    {
     "name": "stdout",
     "output_type": "stream",
     "text": [
      "DSL consists of 10 primitives: {'tophalf_m', 'hmirror_m', 'property_detection_len', 'gravity_down_m', 'rot90_left_m', 'group_into_columns', 'gravity_m', 'compress_m', 'gravity_up_m', 'find_objects'}\n"
     ]
    }
   ],
   "source": [
    "\n",
    "\n",
    "# defining the DSL as the set of the primitives\n",
    "\n",
    "DSL_primitives = {hmirror_m, tophalf_m, rot90_left_m, compress_m, gravity_m, find_objects, group_into_columns, gravity_down_m, gravity_up_m, property_detection_len}\n",
    "primitive_names = {p.__name__ for p in DSL_primitives}\n",
    "print(f'DSL consists of {len(DSL_primitives)} primitives: {primitive_names}')"
   ]
  },
  {
   "cell_type": "markdown",
   "metadata": {},
   "source": []
  },
  {
   "cell_type": "code",
   "execution_count": null,
   "metadata": {},
   "outputs": [],
   "source": []
  },
  {
   "cell_type": "code",
   "execution_count": 17,
   "metadata": {},
   "outputs": [
    {
     "name": "stdout",
     "output_type": "stream",
     "text": [
      "Space to search consists of 11110 programs:\n",
      "\n",
      "lambda grid: tophalf_m(grid)\n",
      "lambda grid: hmirror_m(grid)\n",
      "lambda grid: property_detection_len(grid)\n",
      "lambda grid: gravity_down_m(grid)\n",
      "lambda grid: rot90_left_m(grid)\n",
      "lambda grid: group_into_columns(grid)\n",
      "lambda grid: gravity_m(grid)\n",
      "lambda grid: compress_m(grid)\n",
      "lambda grid: gravity_up_m(grid)\n",
      "lambda grid: find_objects(grid)\n",
      "...\n"
     ]
    }
   ],
   "source": [
    "MAX_DEPTH = 4\n",
    "\n",
    "# construct the program strings of all programs expressible by composing at most MAX_DEPTH primitives\n",
    "\n",
    "program_strings = []\n",
    "for depth in range(1, MAX_DEPTH+1):\n",
    "    primitive_tuples = itertools.product(*[primitive_names]*depth)\n",
    "    for primitives in primitive_tuples:\n",
    "        left_side = \"\".join([p + \"(\" for p in primitives])\n",
    "        right_side = ')' * depth\n",
    "        program_string = f'lambda grid: {left_side}grid{right_side}'\n",
    "        program_strings.append(program_string)\n",
    "\n",
    "\n",
    "# print some of the program strings\n",
    "print(f'Space to search consists of {len(program_strings)} programs:\\n')\n",
    "print('\\n'.join([*program_strings[:10], '...']))\n",
    "\n",
    "\n",
    "# map program strings to programs\n",
    "programs = {prog_str: eval(prog_str) for prog_str in program_strings}"
   ]
  },
  {
   "cell_type": "code",
   "execution_count": 18,
   "metadata": {},
   "outputs": [
    {
     "data": {
      "text/plain": [
       "\"  \\nguesses = dict()\\n# iterate over all tasks\\nfor key, task in tqdm.tqdm(train_challenges.items()):\\n    train_inputs = [example['input'] for example in task['train']]\\n    train_outputs = [example['output'] for example in task['train']]\\n    hypotheses = []\\n    # iterate over all programs\\n    for program_string, program in programs.items():\\n        try:\\n            if all([program(i) == o for i, o in zip(train_inputs, train_outputs)]):\\n                # remember program if it explains all training examples\\n                hypotheses.append(program_string)\\n        except:\\n            pass\\n    # select first program for making predictions\\n    if len(hypotheses) > 0:\\n        print(f'found {len(hypotheses)} candidate programs for task {key}!')\\n        guesses[key] = hypotheses[0]\\nprint(f'\\nMade guesses for {len(guesses)} tasks')\\n\""
      ]
     },
     "execution_count": 18,
     "metadata": {},
     "output_type": "execute_result"
    }
   ],
   "source": [
    "\"\"\"  \n",
    "guesses = dict()\n",
    "# iterate over all tasks\n",
    "for key, task in tqdm.tqdm(train_challenges.items()):\n",
    "    train_inputs = [example['input'] for example in task['train']]\n",
    "    train_outputs = [example['output'] for example in task['train']]\n",
    "    hypotheses = []\n",
    "    # iterate over all programs\n",
    "    for program_string, program in programs.items():\n",
    "        try:\n",
    "            if all([program(i) == o for i, o in zip(train_inputs, train_outputs)]):\n",
    "                # remember program if it explains all training examples\n",
    "                hypotheses.append(program_string)\n",
    "        except:\n",
    "            pass\n",
    "    # select first program for making predictions\n",
    "    if len(hypotheses) > 0:\n",
    "        print(f'found {len(hypotheses)} candidate programs for task {key}!')\n",
    "        guesses[key] = hypotheses[0]\n",
    "print(f'\\nMade guesses for {len(guesses)} tasks')\n",
    "\"\"\""
   ]
  },
  {
   "cell_type": "code",
   "execution_count": 19,
   "metadata": {},
   "outputs": [
    {
     "ename": "NameError",
     "evalue": "name 'guesses' is not defined",
     "output_type": "error",
     "traceback": [
      "\u001b[0;31m---------------------------------------------------------------------------\u001b[0m",
      "\u001b[0;31mNameError\u001b[0m                                 Traceback (most recent call last)",
      "Cell \u001b[0;32mIn[19], line 4\u001b[0m\n\u001b[1;32m      1\u001b[0m solved \u001b[38;5;241m=\u001b[39m \u001b[38;5;28mdict\u001b[39m()\n\u001b[1;32m      3\u001b[0m \u001b[38;5;66;03m# iterate over all tasks for which a guess exists\u001b[39;00m\n\u001b[0;32m----> 4\u001b[0m \u001b[38;5;28;01mfor\u001b[39;00m key, program_string \u001b[38;5;129;01min\u001b[39;00m \u001b[43mguesses\u001b[49m\u001b[38;5;241m.\u001b[39mitems():\n\u001b[1;32m      5\u001b[0m     test_inputs \u001b[38;5;241m=\u001b[39m [example[\u001b[38;5;124m'\u001b[39m\u001b[38;5;124minput\u001b[39m\u001b[38;5;124m'\u001b[39m] \u001b[38;5;28;01mfor\u001b[39;00m example \u001b[38;5;129;01min\u001b[39;00m train_challenges[key][\u001b[38;5;124m'\u001b[39m\u001b[38;5;124mtest\u001b[39m\u001b[38;5;124m'\u001b[39m]]\n\u001b[1;32m      6\u001b[0m     program \u001b[38;5;241m=\u001b[39m \u001b[38;5;28meval\u001b[39m(program_string)\n",
      "\u001b[0;31mNameError\u001b[0m: name 'guesses' is not defined"
     ]
    }
   ],
   "source": [
    "solved = dict()\n",
    "\n",
    "# iterate over all tasks for which a guess exists\n",
    "for key, program_string in guesses.items():\n",
    "    test_inputs = [example['input'] for example in train_challenges[key]['test']]\n",
    "    program = eval(program_string)\n",
    "    if all([program(i) == o for i, o in zip(test_inputs, train_solutions[key])]):\n",
    "        # mark predition as correct if all test examples are solved by the program\n",
    "        solved[key] = program_string\n",
    "\n",
    "\n",
    "print(f'Predictions correct for {len(solved)}/{len(guesses)} tasks')"
   ]
  },
  {
   "cell_type": "code",
   "execution_count": 20,
   "metadata": {},
   "outputs": [],
   "source": [
    "# visualize solved tasks\n",
    "for key, program_string in solved.items():\n",
    "    print(f'For task \"{key}\", found program \"{program_string}\"')\n",
    "    plot_task(train_challenges[key])"
   ]
  },
  {
   "cell_type": "code",
   "execution_count": 21,
   "metadata": {},
   "outputs": [
    {
     "data": {
      "image/png": "[encoded data removed]",
      "text/plain": [
       "<Figure size 1200x800 with 6 Axes>"
      ]
     },
     "metadata": {},
     "output_type": "display_data"
    }
   ],
   "source": [
    "plot_task(train_challenges['d2abd087'])\n"
   ]
  },
  {
   "cell_type": "code",
   "execution_count": 22,
   "metadata": {},
   "outputs": [
    {
     "data": {
      "image/png": "[encoded data removed]",
      "text/plain": [
       "<Figure size 1200x800 with 6 Axes>"
      ]
     },
     "metadata": {},
     "output_type": "display_data"
    }
   ],
   "source": [
    "plot_task(train_challenges['3906de3d'])\n"
   ]
  },
  {
   "cell_type": "code",
   "execution_count": 23,
   "metadata": {},
   "outputs": [
    {
     "name": "stdout",
     "output_type": "stream",
     "text": [
      "DSL with 8 primitives and max. depth 2 allows > 64 programs\n",
      "DSL with 16 primitives and max. depth 2 allows > 256 programs\n",
      "DSL with 32 primitives and max. depth 2 allows > 1024 programs\n",
      "DSL with 8 primitives and max. depth 4 allows > 4096 programs\n",
      "DSL with 16 primitives and max. depth 4 allows > 65536 programs\n",
      "DSL with 32 primitives and max. depth 4 allows > 1048576 programs\n",
      "DSL with 8 primitives and max. depth 8 allows > 16777216 programs\n",
      "DSL with 16 primitives and max. depth 8 allows > 4294967296 programs\n",
      "DSL with 32 primitives and max. depth 8 allows > 1099511627776 programs\n"
     ]
    }
   ],
   "source": [
    "pd_arr = [(p, d) for p in [8, 16, 32] for d in [2, 4, 8]]\n",
    "for p, d in sorted(pd_arr, key=lambda pd: pd[0]**pd[1]):\n",
    "    print(f'DSL with {p} primitives and max. depth {d} allows > {p**d} programs')"
   ]
  }
 ],
 "metadata": {
  "kernelspec": {
   "display_name": "Python 3",
   "language": "python",
   "name": "python3"
  },
  "language_info": {
   "codemirror_mode": {
    "name": "ipython",
    "version": 3
   },
   "file_extension": ".py",
   "mimetype": "text/x-python",
   "name": "python",
   "nbconvert_exporter": "python",
   "pygments_lexer": "ipython3",
   "version": "3.10.12"
  }
 },
 "nbformat": 4,
 "nbformat_minor": 2
}
