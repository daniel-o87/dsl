{
 "cells": [
  {
   "cell_type": "markdown",
   "metadata": {},
   "source": [
    "\n",
    "30 most occuring primitives {'color': 474, 'apply': 446, 'compose': 293, 'fill': 287, 'fork': 279, 'lbind': 240, 'objects': 237, 'rbind': 231, 'mapply': 208, 'ofcolor': 183, 'first': 167, 'shift': 153, 'paint': 148, 'size': 147, 'chain': 129, 'astuple': 128, 'sfilter': 101, 'last': 80, 'branch': 80, 'merge': 77, 'identity': 70, 'subgrid': 66, 'argmax': 64, 'replace': 64, 'canvas': 64, 'crement': 63, 'colorfilter': 63, 'recolor': 61, 'combine': 60, 'subtract': 59}\n",
    "\n",
    "\n",
    "All of them {'color': 474, 'apply': 446, 'compose': 293, 'fill': 287, 'fork': 279, 'lbind': 240, 'objects': 237, 'rbind': 231, 'mapply': 208, 'ofcolor': 183, 'first': 167, 'shift': 153, 'paint': 148, 'size': 147, 'chain': 129, 'astuple': 128, 'sfilter': 101, 'last': 80, 'branch': 80, 'merge': 77, 'identity': 70, 'subgrid': 66, 'argmax': 64, 'replace': 64, 'canvas': 64, 'crement': 63, 'colorfilter': 63, 'recolor': 61, 'combine': 60, 'subtract': 59, 'difference': 59, 'shoot': 59, 'ulcorner': 58, 'matcher': 55, 'neighbors': 53, 'add': 51, 'box': 51, 'width': 50, 'multiply': 49, 'normalize': 48, 'vmirror': 47, 'vconcat': 47, 'center': 47, 'move': 46, 'leastcolor': 45, 'equality': 44, 'initset': 44, 'height': 43, 'crop': 42, 'connect': 42, 'upscale': 41, 'mfilter': 40, 'interval': 40, 'decrement': 39, 'hmirror': 39, 'hconcat': 38, 'order': 37, 'toindices': 36, 'intersection': 35, 'insert': 35, 'remove': 35, 'dmirror': 35, 'underfill': 35, 'argmin': 32, 'palette': 32, 'greater': 31, 'extract': 31, 'asobject': 31, 'shape': 30, 'sizefilter': 29, 'papply': 27, 'contained': 26, 'partition': 26, 'flip': 25, 'tojvec': 24, 'toobject': 24, 'rot90': 24, 'outbox': 24, 'pair': 23, 'mostcolor': 23, 'uppermost': 23, 'numcolors': 23, 'cover': 23, 'colorcount': 22, 'power': 21, 'asindices': 21, 'occurrences': 21, 'invert': 20, 'toivec': 20, 'product': 20, 'rapply': 19, 'tophalf': 19, 'double': 18, 'increment': 18, 'leftmost': 18, 'vline': 18, 'vfrontier': 18, 'hfrontier': 17, 'backdrop': 17, 'other': 16, 'urcorner': 16, 'fgpartition': 16, 'hline': 16, 'bottomhalf': 16, 'lefthalf': 16, 'lrcorner': 15, 'dneighbors': 15, 'rot270': 15, 'rot180': 14, 'index': 14, 'delta': 14, 'either': 13, 'cmirror': 13, 'hsplit': 13, 'prapply': 12, 'portrait': 12, 'switch': 12, 'righthalf': 12, 'inbox': 12, 'maximum': 11, 'totuple': 11, 'manhattan': 11, 'gravitate': 11, 'adjacent': 10, 'bordering': 10, 'vsplit': 10, 'even': 9, 'halve': 9, 'repeat': 9, 'both': 9, 'positive': 9, 'llcorner': 9, 'downscale': 9, 'corners': 9, 'dedupe': 8, 'valmax': 8, 'hupscale': 8, 'divide': 7, 'mpapply': 7, 'lowermost': 7, 'vmatching': 7, 'position': 7, 'trim': 7, 'hperiod': 7, 'minimum': 6, 'rightmost': 6, 'cellwise': 6, 'compress': 6, 'vperiod': 6, 'ineighbors': 5, 'square': 5, 'vupscale': 5, 'valmin': 4, 'mostcommon': 4, 'hmatching': 4, 'frontiers': 4, 'leastcommon': 3, 'sign': 3, 'centerofmass': 3, 'underpaint': 3, 'return max(container, default=0': 0, 'return min(container, default=0': 0, 'return compfunc(max(container, key=compfunc, default=0)': 0, 'return compfunc(min(container, key=compfunc, default=0)': 0}"
   ]
  },
  {
   "cell_type": "code",
   "execution_count": null,
   "metadata": {},
   "outputs": [],
   "source": [
    "import tensorflow as tf\n",
    "from enum import Enum\n",
    "from typing import (\n",
    "    List,\n",
    "    Union,\n",
    "    Tuple,\n",
    "    Any,\n",
    "    Container,\n",
    "    Callable,\n",
    "    FrozenSet,\n",
    "    Iterable\n",
    ")\n",
    "import numpy as np\n",
    "import matplotlib.pyplot as plt\n",
    "from matplotlib.colors import ListedColormap\n",
    "\n",
    "Boolean = bool\n",
    "Integer = int\n",
    "IntegerTuple = Tuple[Integer, Integer]\n",
    "Numerical = Union[Integer, IntegerTuple]\n",
    "IntegerSet = FrozenSet[Integer]\n",
    "Grid = List[List[Integer]]  # Adjusted Grid type to match your data format\n",
    "Cell = Tuple[Integer, IntegerTuple]\n",
    "Object = FrozenSet[Cell]\n",
    "Objects = FrozenSet[Object]\n",
    "Indices = FrozenSet[IntegerTuple]\n",
    "IndicesSet = FrozenSet[Indices]\n",
    "Patch = Union[Object, Indices]\n",
    "Element = Union[Object, Grid]\n",
    "Piece = Union[Grid, Patch]\n",
    "TupleTuple = Tuple[Tuple]\n",
    "ContainerContainer = Container[Container]\n",
    "\n",
    "class Direction(Enum):\n",
    "    DOWN = \"DOWN\"\n",
    "    RIGHT = \"RIGHT\"\n",
    "    LEFT = \"LEFT\"\n",
    "\n",
    "class DSL:\n",
    "    def __init__(self):\n",
    "        self.constants = {\n",
    "            'NEG_TWO': -2,\n",
    "            'NEG_ONE': -1,\n",
    "            'ZERO': 0,\n",
    "            'ONE': 1,\n",
    "            'TWO': 2,\n",
    "            'THREE': 3,\n",
    "            'FOUR': 4,\n",
    "            'FIVE': 5,\n",
    "            'TEN': 10\n",
    "        }\n",
    "\n",
    "    def flip(self, b: Boolean) -> Boolean:\n",
    "        return not b\n",
    "\n",
    "    def eqb(self, b1: Boolean, b2: Boolean) -> Boolean:\n",
    "        return b1 == b2\n",
    "\n",
    "    def ebi(self, i1: Integer, i2: Integer) -> Boolean:\n",
    "        return i1 == i2\n",
    "\n",
    "    def add(self, i1: Integer, i2: Integer) -> Integer:\n",
    "        return i1 + i2\n",
    "\n",
    "    def sub(self, i1: Integer, i2: Integer) -> Integer:\n",
    "        return i1 - i2\n",
    "\n",
    "    def mult(self, i1: Integer, i2: Integer) -> Integer:\n",
    "        return i1 * i2\n",
    "\n",
    "    def div(self, i1: Integer, i2: Integer) -> Integer:\n",
    "\n",
    "    def create_cord(self, x: Integer, y: Integer) -> IntegerTuple:\n",
    "        return (x, y)\n",
    "\n",
    "    def move(self, cord: IntegerTuple, direction: Direction) -> IntegerTuple:\n",
    "        x, y = cord\n",
    "        if direction == Direction.DOWN:\n",
    "            return (x + 1, y)\n",
    "        elif direction == Direction.RIGHT:\n",
    "            return (x, y + 1)\n",
    "        elif direction == Direction.LEFT:\n",
    "            return (x, y - 1)\n",
    "        else:\n",
    "            raise ValueError(f\"Invalid direction: {direction}\")\n",
    "\n",
    "    def create_set(self, elements: List[Integer]) -> List[Integer]:\n",
    "        return sorted(set(elements))\n",
    "\n",
    "    def create_tuple(self, elements: List[Integer]) -> Tuple[Integer, ...]:\n",
    "        return tuple(elements)\n",
    "\n",
    "    def color(self, obj: Object) -> Integer:\n",
    "        \"\"\"Color of object\"\"\"\n",
    "        if not obj:\n",
    "            raise ValueError(\"Object is empty\")\n",
    "        first_cell = next(iter(obj))\n",
    "        color_value = first_cell[0]\n",
    "        return color_value\n",
    "\n",
    "    def apply(self, function: Callable[[Any], Any], container: Container) -> Container:\n",
    "        \"\"\"Apply function to each item in container\"\"\"\n",
    "        return type(container)(function(e) for e in container)\n",
    "\n",
    "    def fill(self, grid: Grid, value: Integer, patch: Patch) -> Grid:\n",
    "        \"\"\"Fill value at indices\"\"\"\n",
    "        h, w = len(grid), len(grid[0])\n",
    "        grid_filled = [row.copy() for row in grid]  \n",
    "\n",
    "        indices = self.toindices(patch)\n",
    "\n",
    "        for i, j in indices:\n",
    "            if 0 <= i < h and 0 <= j < w:\n",
    "                grid_filled[i][j] = value\n",
    "\n",
    "        return grid_filled\n",
    "\n",
    "    def toindices(self, patch: Patch) -> List[IntegerTuple]:\n",
    "        \"\"\"Convert Patch to a list of indices\"\"\"\n",
    "        if isinstance(patch, frozenset):\n",
    "            if all(isinstance(elem, tuple) and isinstance(elem[0], int) for elem in patch):\n",
    "                # Patch is Indices\n",
    "                return list(patch)\n",
    "            elif all(isinstance(elem, tuple) and isinstance(elem[0], int) and isinstance(elem[1], tuple) for elem in patch):\n",
    "                # Patch is an Object\n",
    "                return [cell[1] for cell in patch]\n",
    "            else:\n",
    "                raise ValueError(\"Invalid Patch format\")\n",
    "        else:\n",
    "            raise ValueError(\"Patch must be an Object or Indices\")\n",
    "\n",
    "    def visualize_grid(self, grid: Grid, cmap: ListedColormap):\n",
    "        \"\"\"Visualize the grid using matplotlib\"\"\"\n",
    "        plt.figure(figsize=(2, 2))\n",
    "        plt.imshow(grid, cmap=cmap, interpolation='nearest')\n",
    "        plt.axis('off')\n",
    "        plt.show()\n",
    "\n"
   ]
  },
  {
   "cell_type": "code",
   "execution_count": null,
   "metadata": {},
   "outputs": [
    {
     "name": "stdout",
     "output_type": "stream",
     "text": [
      "Example 1:\n",
      "Input Grid:\n",
      "[1, 0]\n",
      "[0, 0]\n",
      "Output Grid:\n",
      "[1, 1]\n",
      "[1, 1]\n",
      "Visualizing Input Grid:\n"
     ]
    },
    {
     "data": {
      "image/png": "[encoded data removed]",
      "text/plain": [
       "<Figure size 200x200 with 1 Axes>"
      ]
     },
     "metadata": {},
     "output_type": "display_data"
    },
    {
     "name": "stdout",
     "output_type": "stream",
     "text": [
      "Visualizing Output Grid:\n"
     ]
    },
    {
     "data": {
      "image/png": "[encoded data removed]",
      "text/plain": [
       "<Figure size 200x200 with 1 Axes>"
      ]
     },
     "metadata": {},
     "output_type": "display_data"
    },
    {
     "name": "stdout",
     "output_type": "stream",
     "text": [
      "Filled Grid:\n",
      "[1, 1]\n",
      "[1, 1]\n",
      "Visualizing Filled Grid:\n"
     ]
    },
    {
     "data": {
      "image/png": "[encoded data removed]",
      "text/plain": [
       "<Figure size 200x200 with 1 Axes>"
      ]
     },
     "metadata": {},
     "output_type": "display_data"
    },
    {
     "name": "stdout",
     "output_type": "stream",
     "text": [
      "Example 2:\n",
      "Input Grid:\n",
      "[0, 0]\n",
      "[4, 0]\n",
      "Output Grid:\n",
      "[4, 4]\n",
      "[4, 4]\n",
      "Visualizing Input Grid:\n"
     ]
    },
    {
     "data": {
      "image/png": "[encoded data removed]",
      "text/plain": [
       "<Figure size 200x200 with 1 Axes>"
      ]
     },
     "metadata": {},
     "output_type": "display_data"
    },
    {
     "name": "stdout",
     "output_type": "stream",
     "text": [
      "Visualizing Output Grid:\n"
     ]
    },
    {
     "data": {
      "image/png": "[encoded data removed]",
      "text/plain": [
       "<Figure size 200x200 with 1 Axes>"
      ]
     },
     "metadata": {},
     "output_type": "display_data"
    },
    {
     "name": "stdout",
     "output_type": "stream",
     "text": [
      "Filled Grid:\n",
      "[4, 4]\n",
      "[4, 4]\n",
      "Visualizing Filled Grid:\n"
     ]
    },
    {
     "data": {
      "image/png": "[encoded data removed]",
      "text/plain": [
       "<Figure size 200x200 with 1 Axes>"
      ]
     },
     "metadata": {},
     "output_type": "display_data"
    },
    {
     "name": "stdout",
     "output_type": "stream",
     "text": [
      "Example 3:\n",
      "Input Grid:\n",
      "[0, 0]\n",
      "[6, 0]\n",
      "Output Grid:\n",
      "[6, 6]\n",
      "[6, 6]\n",
      "Visualizing Input Grid:\n"
     ]
    },
    {
     "data": {
      "image/png": "[encoded data removed]",
      "text/plain": [
       "<Figure size 200x200 with 1 Axes>"
      ]
     },
     "metadata": {},
     "output_type": "display_data"
    },
    {
     "name": "stdout",
     "output_type": "stream",
     "text": [
      "Visualizing Output Grid:\n"
     ]
    },
    {
     "data": {
      "image/png": "[encoded data removed]",
      "text/plain": [
       "<Figure size 200x200 with 1 Axes>"
      ]
     },
     "metadata": {},
     "output_type": "display_data"
    },
    {
     "name": "stdout",
     "output_type": "stream",
     "text": [
      "Filled Grid:\n",
      "[6, 6]\n",
      "[6, 6]\n",
      "Visualizing Filled Grid:\n"
     ]
    },
    {
     "data": {
      "image/png": "[encoded data removed]",
      "text/plain": [
       "<Figure size 200x200 with 1 Axes>"
      ]
     },
     "metadata": {},
     "output_type": "display_data"
    },
    {
     "name": "stdout",
     "output_type": "stream",
     "text": [
      "Test Example 1:\n",
      "Input Grid:\n",
      "[0, 0]\n",
      "[0, 8]\n",
      "Output Grid:\n",
      "[8, 8]\n",
      "[8, 8]\n",
      "Visualizing Input Grid:\n"
     ]
    },
    {
     "data": {
      "image/png": "[encoded data removed]",
      "text/plain": [
       "<Figure size 200x200 with 1 Axes>"
      ]
     },
     "metadata": {},
     "output_type": "display_data"
    },
    {
     "name": "stdout",
     "output_type": "stream",
     "text": [
      "Visualizing Output Grid:\n"
     ]
    },
    {
     "data": {
      "image/png": "[encoded data removed]",
      "text/plain": [
       "<Figure size 200x200 with 1 Axes>"
      ]
     },
     "metadata": {},
     "output_type": "display_data"
    }
   ],
   "source": [
    "if __name__ == \"__main__\":\n",
    "    dsl = DSL()\n",
    "\n",
    "    cmap = ListedColormap([\n",
    "        '#000000', '#0074D9', '#FF4136', '#2ECC40', '#FFDC00',\n",
    "        '#AAAAAA', '#F012BE', '#FF851B', '#7FDBFF', '#870C25'\n",
    "    ])\n",
    "\n",
    "    data = {\n",
    "        \"train\": [\n",
    "            {\"input\": [[1, 0], [0, 0]], \"output\": [[1, 1], [1, 1]]},\n",
    "            {\"input\": [[0, 0], [4, 0]], \"output\": [[4, 4], [4, 4]]},\n",
    "            {\"input\": [[0, 0], [6, 0]], \"output\": [[6, 6], [6, 6]]}\n",
    "        ],\n",
    "        \"test\": [\n",
    "            {\"input\": [[0, 0], [0, 8]], \"output\": [[8, 8], [8, 8]]}\n",
    "        ]\n",
    "    }\n",
    "\n",
    "    for idx, example in enumerate(data['train']):\n",
    "        input_grid = example['input']\n",
    "        output_grid = example['output']\n",
    "\n",
    "        print(f\"Example {idx + 1}:\\nInput Grid:\")\n",
    "        for row in input_grid:\n",
    "            print(row)\n",
    "        print(\"Output Grid:\")\n",
    "        for row in output_grid:\n",
    "            print(row)\n",
    "\n",
    "        print(\"Visualizing Input Grid:\")\n",
    "        dsl.visualize_grid(input_grid, cmap)\n",
    "        print(\"Visualizing Output Grid:\")\n",
    "        dsl.visualize_grid(output_grid, cmap)\n",
    "\n",
    "        non_zero_cells = [(i, j) for i in range(len(input_grid)) for j in range(len(input_grid[0])) if input_grid[i][j] != 0]\n",
    "        if non_zero_cells:\n",
    "            color_value = input_grid[non_zero_cells[0][0]][non_zero_cells[0][1]]\n",
    "            indices_to_fill = [(i, j) for i in range(len(input_grid)) for j in range(len(input_grid[0])) if input_grid[i][j] == 0]\n",
    "            patch = frozenset(indices_to_fill)\n",
    "            filled_grid = dsl.fill(input_grid, color_value, patch)\n",
    "            print(\"Filled Grid:\")\n",
    "            for row in filled_grid:\n",
    "                print(row)\n",
    "            print(\"Visualizing Filled Grid:\")\n",
    "            dsl.visualize_grid(filled_grid, cmap)\n",
    "        else:\n",
    "            print(\"No non-zero cells found to determine fill color.\")\n",
    "\n",
    "    for idx, example in enumerate(data['test']):\n",
    "        input_grid = example['input']\n",
    "        output_grid = example['output']\n",
    "\n",
    "        print(f\"Test Example {idx + 1}:\\nInput Grid:\")\n",
    "        for row in input_grid:\n",
    "            print(row)\n",
    "        print(\"Output Grid:\")\n",
    "        for row in output_grid:\n",
    "            print(row)\n",
    "\n",
    "        # Visualize input and output grids\n",
    "        print(\"Visualizing Input Grid:\")\n",
    "        dsl.visualize_grid(input_grid, cmap)\n",
    "        print(\"Visualizing Output Grid:\")\n",
    "        dsl.visualize_grid(output_grid, cmap)"
   ]
  }
 ],
 "metadata": {
  "kernelspec": {
   "display_name": "Python 3",
   "language": "python",
   "name": "python3"
  },
  "language_info": {
   "codemirror_mode": {
    "name": "ipython",
    "version": 3
   },
   "file_extension": ".py",
   "mimetype": "text/x-python",
   "name": "python",
   "nbconvert_exporter": "python",
   "pygments_lexer": "ipython3",
   "version": "3.10.12"
  }
 },
 "nbformat": 4,
 "nbformat_minor": 2
}
